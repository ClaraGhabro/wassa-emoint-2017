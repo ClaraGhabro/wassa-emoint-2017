{
 "cells": [
  {
   "cell_type": "code",
   "execution_count": 1,
   "metadata": {
    "collapsed": true
   },
   "outputs": [],
   "source": [
    "import gensim\n",
    "import numpy as np"
   ]
  },
  {
   "cell_type": "code",
   "execution_count": 3,
   "metadata": {
    "collapsed": true
   },
   "outputs": [],
   "source": [
    "wv_model_path = \"/home/v2john/Documents/GoogleNews-vectors-negative300.bin.gz\"\n",
    "wv_model = gensim.models.KeyedVectors.load_word2vec_format(wv_model_path, binary=True)"
   ]
  },
  {
   "cell_type": "code",
   "execution_count": 4,
   "metadata": {
    "collapsed": true
   },
   "outputs": [],
   "source": [
    "affect_intensity_file_path = \\\n",
    "    \"/home/v2john/MEGA/Academic/Masters/UWaterloo/Research/WASSA-Task/\" + \\\n",
    "    \"lexicons/NRC-AffectIntensity-Lexicon.txt\""
   ]
  },
  {
   "cell_type": "code",
   "execution_count": 5,
   "metadata": {
    "collapsed": true
   },
   "outputs": [],
   "source": [
    "from nltk.corpus import stopwords\n",
    "\n",
    "def remove_stopwords(string):\n",
    "    split_string = \\\n",
    "        [word for word in string.split()\n",
    "         if word not in stopwords.words('english')]\n",
    "    \n",
    "    return \" \".join(split_string)"
   ]
  },
  {
   "cell_type": "code",
   "execution_count": 6,
   "metadata": {
    "collapsed": true
   },
   "outputs": [],
   "source": [
    "import re\n",
    "\n",
    "def clean_str(string):\n",
    "    string = re.sub(r\"@[A-Za-z0-9_s(),!?\\'\\`]+\", \"\", string) # removing any twitter handle mentions\n",
    "    string = re.sub(r\"[^A-Za-z0-9(),!?\\'\\`]\", \" \", string)\n",
    "    string = re.sub(r\"\\'s\", \" \\'s\", string)\n",
    "    string = re.sub(r\"\\'ve\", \" \\'ve\", string)\n",
    "    string = re.sub(r\"n\\'t\", \" n\\'t\", string)\n",
    "    string = re.sub(r\"\\'re\", \" \\'re\", string)\n",
    "    string = re.sub(r\"\\'d\", \" \\'d\", string)\n",
    "    string = re.sub(r\"\\'ll\", \" \\'ll\", string)\n",
    "    string = re.sub(r\",\", \" , \", string)\n",
    "    string = re.sub(r\"!\", \" ! \", string)\n",
    "    string = re.sub(r\"\\(\", \" \\( \", string)\n",
    "    string = re.sub(r\"\\)\", \" \\) \", string)\n",
    "    string = re.sub(r\"\\?\", \" \\? \", string)\n",
    "    string = re.sub(r\"\\s{2,}\", \" \", string)\n",
    "\n",
    "    return remove_stopwords(string.strip().lower())"
   ]
  },
  {
   "cell_type": "code",
   "execution_count": 7,
   "metadata": {
    "collapsed": true
   },
   "outputs": [],
   "source": [
    "class Tweet(object):\n",
    "\n",
    "    def __init__(self, id, text, emotion, intensity):\n",
    "        self.id = id\n",
    "        self.text = text\n",
    "        self.emotion = emotion\n",
    "        self.intensity = intensity\n",
    "\n",
    "    def __repr__(self):\n",
    "        return \\\n",
    "            \"id: \" + self.id + \\\n",
    "            \", text: \" + self.text + \\\n",
    "            \", emotion: \" + self.emotion + \\\n",
    "            \", intensity: \" + self.intensity"
   ]
  },
  {
   "cell_type": "code",
   "execution_count": 8,
   "metadata": {
    "collapsed": true
   },
   "outputs": [],
   "source": [
    "def read_training_data(training_data_file_path):\n",
    "\n",
    "    train_list = list()\n",
    "    with open(training_data_file_path) as input_file:\n",
    "        for line in input_file:\n",
    "            line = line.strip()\n",
    "            array = line.split('\\t')\n",
    "            train_list.append(Tweet(array[0], clean_str(array[1]), array[2], float(array[3])))\n",
    "    return train_list\n",
    "            \n",
    "def read_test_data(training_data_file_path):\n",
    "\n",
    "    test_list = list()\n",
    "    with open(training_data_file_path) as input_file:\n",
    "        for line in input_file:\n",
    "            line = line.strip()\n",
    "            array = line.split('\\t')\n",
    "            test_list.append(Tweet(array[0], clean_str(array[1]), array[2], None))\n",
    "    return test_list"
   ]
  },
  {
   "cell_type": "code",
   "execution_count": 9,
   "metadata": {
    "collapsed": true
   },
   "outputs": [],
   "source": [
    "emotion = \"fear\""
   ]
  },
  {
   "cell_type": "code",
   "execution_count": 10,
   "metadata": {
    "collapsed": true
   },
   "outputs": [],
   "source": [
    "training_data_file_path = \\\n",
    "    \"/home/v2john/MEGA/Academic/Masters/UWaterloo/Research/WASSA-Task/dataset/\" + \\\n",
    "    emotion + \"-ratings-0to1.train.txt\"\n",
    "test_data_file_path = \\\n",
    "    \"/home/v2john/MEGA/Academic/Masters/UWaterloo/Research/WASSA-Task/dataset/\" + \\\n",
    "    emotion + \"-ratings-0to1.dev.target.txt\"\n",
    "predictions_file_path = \\\n",
    "    \"/home/v2john/MEGA/Academic/Masters/UWaterloo/Research/WASSA-Task/predictions/\" + \\\n",
    "    emotion + \"-pred.txt\"\n",
    "gold_set_path = \\\n",
    "    \"/home/v2john/MEGA/Academic/Masters/UWaterloo/Research/WASSA-Task/dataset/gold-set/\" + \\\n",
    "    emotion + \"-ratings-0to1.dev.gold.txt\""
   ]
  },
  {
   "cell_type": "code",
   "execution_count": 11,
   "metadata": {},
   "outputs": [
    {
     "name": "stdout",
     "output_type": "stream",
     "text": [
      "1765\n"
     ]
    }
   ],
   "source": [
    "word_list = list()\n",
    "word_intensities = dict()\n",
    "\n",
    "with open(affect_intensity_file_path) as affect_intensity_file:\n",
    "    for line in affect_intensity_file:\n",
    "        word_int_array = line.replace(\"\\n\", \"\").split(\"\\t\")\n",
    "        \n",
    "        if (word_int_array[2] == emotion):\n",
    "            word_list.append(word_int_array[0])\n",
    "            word_intensities[word_int_array[0]] = float(word_int_array[1])\n",
    "            \n",
    "print(len(word_list))"
   ]
  },
  {
   "cell_type": "code",
   "execution_count": 12,
   "metadata": {},
   "outputs": [
    {
     "name": "stdout",
     "output_type": "stream",
     "text": [
      "1147\n"
     ]
    }
   ],
   "source": [
    "training_tweets = read_training_data(training_data_file_path)\n",
    "\n",
    "score_train = list()\n",
    "tweet_train = list()\n",
    "for tweet in training_tweets:\n",
    "    tweet_train.append(tweet.text)\n",
    "    score_train.append(float(tweet.intensity))\n",
    "    \n",
    "print(len(score_train))"
   ]
  },
  {
   "cell_type": "code",
   "execution_count": 13,
   "metadata": {},
   "outputs": [
    {
     "name": "stdout",
     "output_type": "stream",
     "text": [
      "304\n"
     ]
    }
   ],
   "source": [
    "x_train = list()\n",
    "\n",
    "for tweet in tweet_train:\n",
    "    x_vector = list()\n",
    "    score = 0.0\n",
    "    for word in word_list:\n",
    "        if word in tweet:\n",
    "            score += tweet.count(word) * float(word_intensities[word])\n",
    "    x_vector.append(score)\n",
    "    x_vector.append(score**2)\n",
    "    x_vector.append(score**3)\n",
    "    x_vector.append(score**4)\n",
    "#     print(len(x_vector))\n",
    "    \n",
    "    vector_list = list()\n",
    "    for word in tweet.split():\n",
    "        try:\n",
    "            vector_list.append(wv_model[word])\n",
    "        except Exception as e:\n",
    "            pass\n",
    "    \n",
    "    if len(vector_list) == 0:\n",
    "        vec_rep = np.zeros(300).tolist()\n",
    "    else:\n",
    "        vec_rep = sum(vector_list) / float(len(vector_list))\n",
    "#     print(len(vec_rep))\n",
    "    \n",
    "    x_vector.extend(vec_rep)\n",
    "    x_train.append(x_vector)\n",
    "\n",
    "print(len(x_train[0]))"
   ]
  },
  {
   "cell_type": "code",
   "execution_count": 14,
   "metadata": {},
   "outputs": [
    {
     "name": "stdout",
     "output_type": "stream",
     "text": [
      "Accuracy: -0.03 (+/- 0.05)\n"
     ]
    }
   ],
   "source": [
    "from sklearn import model_selection, ensemble, svm\n",
    "\n",
    "scores = \\\n",
    "    model_selection.cross_val_score(\n",
    "        ensemble.GradientBoostingRegressor(), x_train, \n",
    "        score_train, cv=10, scoring='neg_mean_squared_error'\n",
    "    )\n",
    "\n",
    "mean_score = scores.mean()\n",
    "print(\"Accuracy: %0.2f (+/- %0.2f)\" % (mean_score, scores.std() * 2))"
   ]
  },
  {
   "cell_type": "code",
   "execution_count": 15,
   "metadata": {},
   "outputs": [
    {
     "name": "stdout",
     "output_type": "stream",
     "text": [
      "110\n",
      "110\n"
     ]
    }
   ],
   "source": [
    "test_tweets = read_test_data(test_data_file_path)\n",
    "tweet_test = list()\n",
    "for tweet in test_tweets:\n",
    "    tweet_test.append(tweet.text)\n",
    "\n",
    "print(len(tweet_test))\n",
    "\n",
    "x_test = list()\n",
    "\n",
    "for tweet in tweet_test:\n",
    "    x_vector = list()\n",
    "    score = 0.0\n",
    "    for word in word_list:\n",
    "        if word in tweet:\n",
    "            score += tweet.count(word) * float(word_intensities[word])\n",
    "    x_vector.append(score)\n",
    "    x_vector.append(score**2)\n",
    "    x_vector.append(score**3)\n",
    "    x_vector.append(score**4)\n",
    "\n",
    "    vector_list = list()\n",
    "    for word in tweet.split():\n",
    "        try:\n",
    "            vector_list.append(wv_model[word])\n",
    "        except Exception as e:\n",
    "            pass\n",
    "    \n",
    "    if len(vector_list) == 0:\n",
    "        vec_rep = np.zeros(300).tolist()\n",
    "    else:\n",
    "        vec_rep = sum(vector_list) / float(len(vector_list))\n",
    "        \n",
    "    x_vector.extend(vec_rep)\n",
    "    x_test.append(x_vector)\n",
    "\n",
    "print(len(x_test))"
   ]
  },
  {
   "cell_type": "code",
   "execution_count": 16,
   "metadata": {
    "collapsed": true
   },
   "outputs": [],
   "source": [
    "ml_model = ensemble.GradientBoostingRegressor()\n",
    "ml_model.fit(x_train, score_train)\n",
    "\n",
    "y_test = ml_model.predict(X=x_test)"
   ]
  },
  {
   "cell_type": "code",
   "execution_count": 17,
   "metadata": {
    "collapsed": true
   },
   "outputs": [],
   "source": [
    "with open(predictions_file_path, 'w') as predictions_file:\n",
    "    for i in range(len(y_test)):\n",
    "        predictions_file.write(\n",
    "            str(test_tweets[i].id) + \"\\t\" + test_tweets[i].text + \"\\t\" +\n",
    "            test_tweets[i].emotion +\"\\t\" + str(y_test[i]) + \"\\n\"\n",
    "        )"
   ]
  },
  {
   "cell_type": "code",
   "execution_count": 297,
   "metadata": {},
   "outputs": [
    {
     "name": "stdout",
     "output_type": "stream",
     "text": [
      "know going one nights takes act god fall asleep 0.398814208774\n",
      "horrible lewis dunk begun networking neo geo holiday home mexico 0.42345414724\n",
      "speaking ex cobblers , saw ricky holmes charlton last week tracking back amp defending dread seeing gorre ball 0.440753717854\n",
      "ball watching amp rojo 'd header equally dreadful ! ! 0.406487457879\n",
      "really jumanji 2 w rock , jack black , kevin hart kidding ! wtf ! thisisaterribleidea 0.433469326101\n",
      "really jumanji 2 w rock , jack black , kevin hart kidding ! wtf ! thisisaterribleidea horrible 0.451750433529\n",
      "losing villa ' things people worry things wo n't even matter months ' 0.587339054321\n",
      "worrying worried \\? n1peter 5 7 nthrow worry , cares faith leadership worry mindfulness success 0.544449071442\n",
      "concerns amp anxiety n't matter shall return favor eyematter 0.493953281018\n",
      "goes butterflies stomach nervous anxietyproblems 0.696920927123\n"
     ]
    }
   ],
   "source": [
    "for i in range(10):\n",
    "    print(tweet_test[i], y_test[i])"
   ]
  },
  {
   "cell_type": "markdown",
   "metadata": {},
   "source": [
    "# Simple Neural Network Implementation in PyTorch"
   ]
  },
  {
   "cell_type": "code",
   "execution_count": 120,
   "metadata": {},
   "outputs": [
    {
     "name": "stdout",
     "output_type": "stream",
     "text": [
      "True\n"
     ]
    }
   ],
   "source": [
    "import torch\n",
    "import torch.autograd\n",
    "import torch.nn.functional as F\n",
    "from torch.autograd import Variable\n",
    "\n",
    "print(torch.cuda.is_available())\n",
    "torch.cuda.set_device(0)"
   ]
  },
  {
   "cell_type": "code",
   "execution_count": 121,
   "metadata": {},
   "outputs": [
    {
     "name": "stdout",
     "output_type": "stream",
     "text": [
      "<class 'torch.FloatTensor'> <class 'torch.FloatTensor'> <class 'torch.FloatTensor'>\n"
     ]
    }
   ],
   "source": [
    "dtype = torch.FloatTensor\n",
    "\n",
    "x_train_tensor = torch.from_numpy(np.array(x_train)).type(dtype)\n",
    "y_train_tensor = torch.from_numpy(np.array(score_train)).type(dtype)\n",
    "x_test_tensor = torch.from_numpy(np.array(x_test)).type(dtype)\n",
    "print(type(x_train_tensor), type(y_train_tensor), type(x_test_tensor))"
   ]
  },
  {
   "cell_type": "code",
   "execution_count": 135,
   "metadata": {
    "collapsed": true
   },
   "outputs": [],
   "source": [
    "_, dim_size = (np.array(x_train).shape)\n",
    "input_size = dim_size\n",
    "output_size = 1\n",
    "num_epochs = 100000\n",
    "learning_rate = 0.001"
   ]
  },
  {
   "cell_type": "code",
   "execution_count": 136,
   "metadata": {
    "collapsed": true
   },
   "outputs": [],
   "source": [
    "import torch.nn as nn\n",
    "from torch.nn.parameter import Parameter\n",
    "\n",
    "class LinearRegression(nn.Module):\n",
    "    def __init__(self, input_size, output_size):\n",
    "        super(LinearRegression, self).__init__()\n",
    "        self.linear = nn.Linear(input_size, output_size)\n",
    "        self.weight = Parameter(torch.FloatTensor(output_size, input_size))\n",
    "    \n",
    "    def forward(self, x):\n",
    "        out = self.linear(x)\n",
    "        return out\n",
    "\n",
    "model = LinearRegression(input_size, output_size)\n",
    "# Loss and Optimizer\n",
    "criterion = nn.MSELoss()\n",
    "optimizer = torch.optim.SGD(model.parameters(), lr=learning_rate)  "
   ]
  },
  {
   "cell_type": "code",
   "execution_count": 140,
   "metadata": {},
   "outputs": [
    {
     "name": "stdout",
     "output_type": "stream",
     "text": [
      "Epoch [10000/100000], Loss: 0.0110\n",
      "Epoch [20000/100000], Loss: 0.0107\n",
      "Epoch [30000/100000], Loss: 0.0105\n",
      "Epoch [40000/100000], Loss: 0.0104\n",
      "Epoch [50000/100000], Loss: 0.0102\n",
      "Epoch [60000/100000], Loss: 0.0100\n",
      "Epoch [70000/100000], Loss: 0.0099\n",
      "Epoch [80000/100000], Loss: 0.0098\n",
      "Epoch [90000/100000], Loss: 0.0096\n",
      "Epoch [100000/100000], Loss: 0.0095\n"
     ]
    }
   ],
   "source": [
    "for epoch in range(num_epochs):\n",
    "    # Convert numpy array to torch Variable\n",
    "    inputs = Variable(x_train_tensor)\n",
    "    targets = Variable(y_train_tensor)\n",
    "\n",
    "    # Forward + Backward + Optimize\n",
    "    optimizer.zero_grad()  \n",
    "    outputs = model(inputs)\n",
    "    loss = criterion(outputs, targets)\n",
    "    loss.backward()\n",
    "    optimizer.step()\n",
    "    \n",
    "    if (epoch+1) % 10000 == 0:\n",
    "        print ('Epoch [%d/%d], Loss: %.4f' \n",
    "               %(epoch+1, num_epochs, loss.data[0]))\n",
    "        \n",
    "# Plot the graph\n",
    "predicted = model(Variable(x_test_tensor)).data.numpy()"
   ]
  },
  {
   "cell_type": "code",
   "execution_count": 141,
   "metadata": {
    "collapsed": true
   },
   "outputs": [],
   "source": [
    "with open(predictions_file_path, 'w') as predictions_file:\n",
    "    for i in range(len(y_test)):\n",
    "        predictions_file.write(\n",
    "            str(test_tweets[i].id) + \"\\t\" + test_tweets[i].text + \"\\t\" +\n",
    "            test_tweets[i].emotion +\"\\t\" + str(y_test[i]) + \"\\n\"\n",
    "        )"
   ]
  },
  {
   "cell_type": "code",
   "execution_count": 18,
   "metadata": {},
   "outputs": [
    {
     "name": "stdout",
     "output_type": "stream",
     "text": [
      "0.0234920574774\n"
     ]
    }
   ],
   "source": [
    "from sklearn import metrics\n",
    "\n",
    "y_gold = list()\n",
    "with open(gold_set_path) as gold_set_file:    \n",
    "    for line in gold_set_file:\n",
    "        line = line.replace(\"\\n\", \"\")\n",
    "        split_line = line.split(\"\\t\")\n",
    "        y_gold.append(float(split_line[3]))\n",
    "# 0.0185 -> previous\n",
    "print(metrics.mean_squared_error(y_pred=y_test, y_true=y_gold))"
   ]
  },
  {
   "cell_type": "markdown",
   "metadata": {},
   "source": [
    "# Evaluation based on Pearson and Spearman co-efficients"
   ]
  },
  {
   "cell_type": "code",
   "execution_count": null,
   "metadata": {
    "collapsed": true
   },
   "outputs": [],
   "source": [
    "import numpy\n",
    "import sys\n",
    "import scipy.stats\n",
    "\n",
    "def evaluate(pred,gold):\n",
    "    \n",
    "    f=open(pred, \"rb\")\n",
    "    pred_lines=f.readlines()\n",
    "    f.close()\n",
    "    \n",
    "    f=open(gold, \"rb\")\n",
    "    gold_lines=f.readlines()\n",
    "    f.close()\n",
    "    \n",
    "\n",
    "    if(len(pred_lines)==len(gold_lines)):       \n",
    "        # align tweets ids with gold scores and predictions\n",
    "        data_dic={}\n",
    "        \n",
    "        for line in gold_lines:\n",
    "            line = line.decode()\n",
    "            parts=line.split('\\t')\n",
    "            if len(parts)==4:   \n",
    "                data_dic[int(parts[0])]=[float(line.split('\\t')[3])]\n",
    "            else:\n",
    "                raise ValueError('Format problem.')\n",
    "        \n",
    "        \n",
    "        for line in pred_lines:\n",
    "            line = line.decode()\n",
    "            parts=line.split('\\t')\n",
    "            if len(parts)==4:  \n",
    "                if int(parts[0]) in data_dic:\n",
    "                    try:\n",
    "                        data_dic[int(parts[0])].append(float(line.split('\\t')[3]))\n",
    "                    except ValueError:\n",
    "                        # Invalid predictions are replaced by a default value\n",
    "                        data_dic[int(parts[0])].append(0.5)\n",
    "                else:\n",
    "                    raise ValueError('Invalid tweet id.')\n",
    "            else:\n",
    "                raise ValueError('Format problem.')\n",
    "            \n",
    "            \n",
    "        \n",
    "        # lists storing gold and prediction scores\n",
    "        gold_scores=[]  \n",
    "        pred_scores=[]\n",
    "         \n",
    "        \n",
    "        # lists storing gold and prediction scores where gold score >= 0.5\n",
    "        gold_scores_range_05_1=[]\n",
    "        pred_scores_range_05_1=[]\n",
    "         \n",
    "            \n",
    "        for id in data_dic:\n",
    "            if(len(data_dic[id])==2):\n",
    "                gold_scores.append(data_dic[id][0])\n",
    "                pred_scores.append(data_dic[id][1])\n",
    "                if(data_dic[id][0]>=0.5):\n",
    "                    gold_scores_range_05_1.append(data_dic[id][0])\n",
    "                    pred_scores_range_05_1.append(data_dic[id][1])\n",
    "            else:\n",
    "                raise ValueError('Repeated id in test data.')\n",
    "                \n",
    "      \n",
    "        # return zero correlation if predictions are constant\n",
    "        if numpy.std(pred_scores)==0 or numpy.std(gold_scores)==0:\n",
    "            return (0,0,0,0)\n",
    "        \n",
    "\n",
    "        pears_corr=scipy.stats.pearsonr(pred_scores,gold_scores)[0]                                    \n",
    "        spear_corr=scipy.stats.spearmanr(pred_scores,gold_scores)[0]   \n",
    "\n",
    "\n",
    "        pears_corr_range_05_1=scipy.stats.pearsonr(pred_scores_range_05_1,gold_scores_range_05_1)[0]                                    \n",
    "        spear_corr_range_05_1=scipy.stats.spearmanr(pred_scores_range_05_1,gold_scores_range_05_1)[0]           \n",
    "        \n",
    "      \n",
    "        return (pears_corr,spear_corr,pears_corr_range_05_1,spear_corr_range_05_1)\n",
    "                                           \n",
    "                          \n",
    "        \n",
    "    else:\n",
    "        raise ValueError('Predictions and gold data have different number of lines.')"
   ]
  },
  {
   "cell_type": "code",
   "execution_count": 29,
   "metadata": {},
   "outputs": [
    {
     "name": "stdout",
     "output_type": "stream",
     "text": [
      "pears_corr,spear_corr,pears_corr_range_05_1,spear_corr_range_05_1\n",
      "(0.56360946502302101, 0.50732805258768177, 0.53513370142441596, 0.52117313550595246)\n"
     ]
    }
   ],
   "source": [
    "print(\"pears_corr,spear_corr,pears_corr_range_05_1,spear_corr_range_05_1\")\n",
    "print(evaluate(predictions_file_path, gold_set_path))"
   ]
  }
 ],
 "metadata": {
  "kernelspec": {
   "display_name": "Python 3",
   "language": "python",
   "name": "python3"
  },
  "language_info": {
   "codemirror_mode": {
    "name": "ipython",
    "version": 3
   },
   "file_extension": ".py",
   "mimetype": "text/x-python",
   "name": "python",
   "nbconvert_exporter": "python",
   "pygments_lexer": "ipython3",
   "version": "3.6.0"
  }
 },
 "nbformat": 4,
 "nbformat_minor": 2
}
